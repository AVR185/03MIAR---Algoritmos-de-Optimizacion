{
  "nbformat": 4,
  "nbformat_minor": 0,
  "metadata": {
    "colab": {
      "provenance": []
    },
    "kernelspec": {
      "name": "python3",
      "display_name": "Python 3"
    },
    "language_info": {
      "name": "python"
    }
  },
  "cells": [
    {
      "cell_type": "markdown",
      "source": [
        "#AG1 - Actividad Guiada 1\n",
        "Nombre: Álvaro Velasco Romero<br>Enlace: https://colab.research.google.com/drive/1BQPehYM0ZZ5My6mdScjdjyRwGS9HHGY5?usp=sharing\n",
        "<br>\n",
        "GitHub: https://github.com/AVR185/03MIAR---Algoritmos-de-Optimizacion"
      ],
      "metadata": {
        "id": "S-G0GUkhSvHL"
      }
    },
    {
      "cell_type": "markdown",
      "source": [
        "##Divide y vencerás\n",
        "**Características que permiten identificar problemas aplicables:**\n",
        "* El problema puede ser dividido en problemas mas pequeños pero de la\n",
        "misma naturaleza que el principal.\n",
        "* Es posible resolver estos sub-problemas de manera recursiva o de otra\n",
        "manera sencilla (caso simple).\n",
        "* Es posible combinar las soluciones de los sub-problemas para componer la solución al problema principal.\n",
        "* Los sub-problemas son disjuntos entre si. No hay solapamiento entre los sub-problemas.\n",
        "* Debemos asegurar que el proceso de divisiones recursivas finaliza en algún momento."
      ],
      "metadata": {
        "id": "pX7E7WTpOPVs"
      }
    },
    {
      "cell_type": "markdown",
      "source": [
        "> **Aplicación: Torres de Hanoi**"
      ],
      "metadata": {
        "id": "oRGTgyjbPBx0"
      }
    },
    {
      "cell_type": "code",
      "source": [
        "# N = nº de fichas\n",
        "# Desde = nº de poste de partida\n",
        "# Hasta = nº de poste de llegada\n",
        "# Siempre habrá 3 postes, lo que varía es el nº de fichas\n",
        "def Torres_Hanoi(N, desde, hasta):\n",
        "  if N == 1: # caso base\n",
        "    print(f\"Llevar ficha del poste {desde}, hasta el poste {hasta}\")\n",
        "  else:\n",
        "    Torres_Hanoi(N-1, desde, 6-desde-hasta)\n",
        "    print(f\"Llevar ficha del poste {desde}, hasta el poste {hasta}\")\n",
        "    Torres_Hanoi(N-1, 6-desde-hasta, hasta)\n",
        "\n",
        "# Ejecución\n",
        "Torres_Hanoi(4, 1, 3)\n",
        "\n",
        "# Desde - Hasta -> Pivote\n",
        "# 1     - 3     -> 2  => (6 - 1 - 3 = 2)\n",
        "# 1     - 2     -> 3  => (6 - 1 - 2 = 3)\n",
        "# 2     - 3     -> 1  => (6 - 2 - 3 = 1)\n",
        "\n",
        "# Las torres se identifican por un valor en este caso 1, 2 y 3.\n",
        "# La suma total nos da 6. Entonces si sumo dos valores de las torres, digamos mover de 2 a 3.\n",
        "# Entonces lo que me queda es 1: 6 - (2 + 3) = 1"
      ],
      "metadata": {
        "colab": {
          "base_uri": "https://localhost:8080/"
        },
        "id": "_6Uv-NLzS__L",
        "outputId": "cceb84a8-b903-453d-db8c-3475ad8a7a7a"
      },
      "execution_count": null,
      "outputs": [
        {
          "output_type": "stream",
          "name": "stdout",
          "text": [
            "Llevar ficha del poste 1, hasta el poste 2\n",
            "Llevar ficha del poste 1, hasta el poste 3\n",
            "Llevar ficha del poste 2, hasta el poste 3\n",
            "Llevar ficha del poste 1, hasta el poste 2\n",
            "Llevar ficha del poste 3, hasta el poste 1\n",
            "Llevar ficha del poste 3, hasta el poste 2\n",
            "Llevar ficha del poste 1, hasta el poste 2\n",
            "Llevar ficha del poste 1, hasta el poste 3\n",
            "Llevar ficha del poste 2, hasta el poste 3\n",
            "Llevar ficha del poste 2, hasta el poste 1\n",
            "Llevar ficha del poste 3, hasta el poste 1\n",
            "Llevar ficha del poste 2, hasta el poste 3\n",
            "Llevar ficha del poste 1, hasta el poste 2\n",
            "Llevar ficha del poste 1, hasta el poste 3\n",
            "Llevar ficha del poste 2, hasta el poste 3\n"
          ]
        }
      ]
    },
    {
      "cell_type": "code",
      "source": [
        "# Propuesta del profesor\n",
        "# Cambio de monedas - Algoritmos voraces (por etapas)\n",
        "# Cantidad = Dinero a devolver\n",
        "# Sistema = Sistema monetario, ya ordenado de mayor a menor\n",
        "def Cambio_Monedas(cantidad, sistema):\n",
        "  print(f\"Sistema monetario: {sistema}\")\n",
        "\n",
        "  solucion = [0 for i in range(len(sistema))] # Inicializamos el array que contendrá la cantidad de monedas de cada valor\n",
        "  valor_acumulado = 0                       # Inicializamos el valor acumulado\n",
        "\n",
        "  for i in range(len(sistema)):             # Recorremos el sistema monetario (Conjunto de candidatos)\n",
        "    monedas = int( (cantidad - valor_acumulado) / sistema[i]) # Calcula la cantidad de monedas de valor sistema[i] (Función de selección)\n",
        "    solucion[i] = monedas                   # Añade el número de monedas a la selección\n",
        "    valor_acumulado += monedas * sistema[i] # Incrementa el valor acumulado (Función de factibilidad)\n",
        "    \n",
        "    if valor_acumulado == cantidad:\n",
        "      return solucion                       # Finalizamos si ya hemos llegado a la solución (Criterio de solución final)\n",
        "\n",
        "\n",
        "# Propuesta compañero de clase\n",
        "def Cambio_Monedas2(cantidad, sistema):\n",
        "  solucion = {}             # diccionario\n",
        "\n",
        "  for v in sistema:         # recorremos el sistema\n",
        "    monedas = cantidad // v # valor entero de la división\n",
        "    solucion[v] = monedas   # guardamos\n",
        "    cantidad -= monedas * v # actualizamos la cantidad que nos queda por devolver\n",
        "\n",
        "    if cantidad == 0:\n",
        "      return solucion       # Finalizamos\n",
        "\n",
        "\n",
        "# Ejecución\n",
        "sistema = [25, 10, 5, 1]\n",
        "print(Cambio_Monedas(27, sistema))\n",
        "print(Cambio_Monedas2(27, sistema))\n",
        "\n",
        "sistema = [11, 5, 1]\n",
        "print(Cambio_Monedas(15, sistema))\n",
        "print(Cambio_Monedas2(15, sistema))\n",
        "\n",
        "# Falla con el sistema [11, 5, 1] cuando tiene que devolver 15 monedas, porque lo más eficiente seria 3 monedas de 5.\n",
        "# Esto es debido a que siempre empezamos por la modena más grande, y eso no siempre es lo más eficiente u óptimo.\n",
        "# Por supuesto fallará cuando en el sistema monetario no haya la unidad."
      ],
      "metadata": {
        "colab": {
          "base_uri": "https://localhost:8080/"
        },
        "id": "A51kv3w_gXcS",
        "outputId": "77841a53-a741-4f0b-81f8-35531617725f"
      },
      "execution_count": null,
      "outputs": [
        {
          "output_type": "stream",
          "name": "stdout",
          "text": [
            "Sistema monetario: [25, 10, 5, 1]\n",
            "[1, 0, 0, 2]\n",
            "{25: 1, 10: 0, 5: 0, 1: 2}\n",
            "Sistema monetario: [11, 5, 1]\n",
            "[1, 0, 4]\n",
            "{11: 1, 5: 0, 1: 4}\n"
          ]
        }
      ]
    },
    {
      "cell_type": "markdown",
      "source": [
        "## Algoritmo con la técnica vuelta atrás con Python - Backtracking\n",
        "* **Definición:** Construcción sistemática y por etapas de todas las soluciones posibles que pueden representarse mediante una tupla (x1, x2,… Xn) en la que cada componente xi puede explorarse en la etapa i-esima. A través de un árbol de\n",
        "expansión se modela todo el espacio de soluciones donde cada nodo es un valor\n",
        "diferente para cada elemento xi.\n",
        "* **Características que permiten identificar problemas aplicables:**\n",
        "  * Problemas discretos en los que las soluciones se componen de elementos\n",
        "que pueden ser relacionados para expresarlos en un árbol de expansión.\n",
        "  * Es posible encontrar un criterio para descartar determinadas\n",
        "ramas(ramificación y poda[*]) y evitar un análisis exhaustivo (fuerza bruta)"
      ],
      "metadata": {
        "id": "e2wj8w_nPJ46"
      }
    },
    {
      "cell_type": "markdown",
      "source": [
        "> **Aplicación: Problema de las 4 reinas**\n",
        "* Solución: 4-tuplas (x1, x2, x3, x4) donde el valor de cada elemento es la posición(fila) de una reina en la columna i-esima. P.ej la del dibujo es (1,2,3,4)\n",
        "* El árbol de expansión recorrerá todas las posibilidades.\n",
        "* Con este modelo, es posible determinar si una solución parcial (rama del árbol) es “prometedora”\n",
        "* No puede haber dos reinas en la misma columna. Esta restricción se verifica por el modelo que hemos adoptado\n",
        "* Dos reinas estarán en la misma fila si hay dos valores iguales para una solución parcial.\n",
        "P.Ej: (1,2,*,*) representa las dos primeras reinas de la imagen (2ª etapa)\n",
        "* Dos reinas estará en la misma diagonal si |xi -xj| = |i-j|"
      ],
      "metadata": {
        "id": "xf4o05TgQBZv"
      }
    },
    {
      "cell_type": "code",
      "source": [
        "# Funciones auxiliares\n",
        "def es_prometedora(solucion, etapa):\n",
        "  # Así la solución tiene dos valores iguales no es válida => Dos reinas en la misma fila\n",
        "  for i in range(etapa+1):\n",
        "    if solucion.count(solucion[i]) > 1:\n",
        "      return False\n",
        "\n",
        "    # Verifica las diagonales\n",
        "    for j in range(i+1, etapa+1):\n",
        "      if abs(i-j) == abs(solucion[i] - solucion[j]):\n",
        "        return False\n",
        "\n",
        "  return True\n",
        "\n",
        "# Funcion para dibujar el tablero con la solución obtenida\n",
        "def escribe_solucion(s):\n",
        "  n = len(s)\n",
        "  for x in range(n):\n",
        "    print(\"\")\n",
        "    for i in range(n):\n",
        "      if s[i] == x+1:\n",
        "        print(\"  X  \", end = \"\")\n",
        "      else:\n",
        "        print(\"  -  \", end = \"\")\n",
        "\n",
        "\n",
        "# N = tamaño del tablero\n",
        "# Solucion = solución parcial\n",
        "# Etapa = nº de reinas colocadas en la solución parcial\n",
        "def reinas(N, solucion=[], etapa=0):\n",
        "  # Inicializa la solución: una lista con ceros\n",
        "  if len(solucion) == 0:\n",
        "    solucion = [0 for i in range(N)]\n",
        "\n",
        "  # Recorremos todas las reinas\n",
        "  for i in range(1, N+1):\n",
        "    solucion[etapa] = i\n",
        "\n",
        "    if es_prometedora(solucion, etapa):\n",
        "      if etapa == N-1:\n",
        "        print(f\"{solucion}\")\n",
        "      else:\n",
        "        reinas(N, solucion, etapa+1)\n",
        "    else:\n",
        "      None\n",
        "\n",
        "  solucion[etapa] = 0\n",
        "\n",
        "\n",
        "reinas(4, solucion=[], etapa=0)"
      ],
      "metadata": {
        "colab": {
          "base_uri": "https://localhost:8080/"
        },
        "id": "Cg-YX8o0o-md",
        "outputId": "ce13aeca-fc8e-40a3-a31c-2d1cb19834ad"
      },
      "execution_count": null,
      "outputs": [
        {
          "output_type": "stream",
          "name": "stdout",
          "text": [
            "[2, 4, 1, 3]\n",
            "[3, 1, 4, 2]\n"
          ]
        }
      ]
    },
    {
      "cell_type": "code",
      "source": [
        "escribe_solucion([2, 4, 1, 3])\n",
        "print(\"\\n\")\n",
        "escribe_solucion([3, 1, 4, 2])"
      ],
      "metadata": {
        "colab": {
          "base_uri": "https://localhost:8080/"
        },
        "id": "LbB_9MDfugy5",
        "outputId": "d0cf3c28-1f17-4a31-b9d8-38d9972ae462"
      },
      "execution_count": null,
      "outputs": [
        {
          "output_type": "stream",
          "name": "stdout",
          "text": [
            "\n",
            "  -    -    X    -  \n",
            "  X    -    -    -  \n",
            "  -    -    -    X  \n",
            "  -    X    -    -  \n",
            "\n",
            "\n",
            "  -    X    -    -  \n",
            "  -    -    -    X  \n",
            "  X    -    -    -  \n",
            "  -    -    X    -  "
          ]
        }
      ]
    },
    {
      "cell_type": "markdown",
      "source": [
        "## Practica individual\n",
        "**Problema:** Encontrar los dos puntos más cercanos.\n",
        "* Dado un conjunto de puntos se trata de encontrar los dos puntos más cercanos\n",
        "* Guía para aprendizaje:\n",
        "  * Suponer en 1D, o sea, una lista de números: [3403, 4537, 9089, 9746, 7259, …]\n",
        "  * Primer intento: Fuerza bruta\n",
        "  * Calcular la complejidad. ¿Se puede mejorar?\n",
        "  * Segundo intento. Aplicar Divide y Vencerás\n",
        "  * Calcular la complejidad. ¿Se puede mejorar?\n",
        "  * Extender el algoritmo a 2D: [(1122, 6175), (135, 4076), (7296, 2741)…]\n",
        "  * Extender el algoritmo a 3D."
      ],
      "metadata": {
        "id": "583eyzW5Ri3O"
      }
    },
    {
      "cell_type": "code",
      "source": [
        "# Generar lista de números aleatorios\n",
        "import random\n",
        "\n",
        "lista_1D = [random.randrange(1, 10000) for x in range(1000)]\n",
        "lista_1D = set(lista_1D)  # Quitamos los valores duplicados\n",
        "lista_1D = list(lista_1D) # Volvemos a convertirlo a lista\n",
        "\n",
        "lista_2D = [(random.randrange(1, 10000), random.randrange(1, 10000)) for x in range(700)]\n",
        "lista_3D = [(random.randrange(1, 10000), random.randrange(1, 10000), random.randrange(1, 10000)) for x in range(700)]\n",
        "\n",
        "# Muestra\n",
        "print(lista_1D[0:10])\n",
        "print(lista_2D[0:10])\n",
        "print(lista_3D[0:10])"
      ],
      "metadata": {
        "colab": {
          "base_uri": "https://localhost:8080/"
        },
        "id": "fYUslfUIRrka",
        "outputId": "5ba6cace-962d-4988-ee3b-de60ffd68705"
      },
      "execution_count": null,
      "outputs": [
        {
          "output_type": "stream",
          "name": "stdout",
          "text": [
            "[4096, 4098, 8195, 2050, 4103, 8200, 4106, 8203, 6157, 6159]\n",
            "[(2985, 3237), (3787, 6209), (8376, 4798), (6009, 7697), (9141, 3093), (560, 2823), (9293, 1011), (4298, 9626), (5237, 5136), (318, 8709)]\n",
            "[(54, 5815, 1085), (3894, 2210, 3584), (2481, 3149, 8048), (174, 4812, 6615), (2823, 7458, 6886), (3315, 3435, 2370), (7758, 8487, 1933), (7721, 4624, 1855), (359, 6190, 8692), (174, 2842, 9768)]\n"
          ]
        }
      ]
    },
    {
      "cell_type": "markdown",
      "source": [
        "> Fuerza Bruta"
      ],
      "metadata": {
        "id": "NvpyFtUYSxzX"
      }
    },
    {
      "cell_type": "code",
      "source": [
        "%time\n",
        "# PRACTICA INDIVIDUAL\n",
        "# FUERZA BRUTA\n",
        "def fuerza_bruta(lista):\n",
        "  punto1, punto2 = -1, -1\n",
        "  diff = 9999\n",
        "\n",
        "  for i in range(len(lista)):\n",
        "    for j in range(i + 1, len(lista)):\n",
        "\n",
        "      aux = abs(lista[i] - lista[j])\n",
        "      if diff > aux:\n",
        "        diff = aux\n",
        "        punto1 = lista[i]\n",
        "        punto2 = lista[j]\n",
        "\n",
        "  return punto1, punto2\n",
        "\n",
        "print(f\"\\nPor fuerza bruta: {fuerza_bruta(lista_1D)}\")\n",
        "print(f\"Complejidad computacional: O(n^2)\")\n",
        "print(\"Para ello habría que computar las distancias entre las (n(n-1))/2 combinaciones de pares de puntos, y elegir el par con la distancia más pequeña.\")\n",
        "print(\"El problema puede ser resuelto en tiempo O(n log n) usando un algoritmo recursivo  tipo divide y vencerás\")"
      ],
      "metadata": {
        "colab": {
          "base_uri": "https://localhost:8080/"
        },
        "id": "Qczortw6F2mZ",
        "outputId": "94aa6751-4965-4f5b-8c6b-0f7868a93099"
      },
      "execution_count": null,
      "outputs": [
        {
          "output_type": "stream",
          "name": "stdout",
          "text": [
            "CPU times: user 4 µs, sys: 1 µs, total: 5 µs\n",
            "Wall time: 8.82 µs\n",
            "\n",
            "Por fuerza bruta: (8224, 8225)\n",
            "Complejidad computacional: O(n^2)\n",
            "Para ello habría que computar las distancias entre las (n(n-1))/2 combinaciones de pares de puntos, y elegir el par con la distancia más pequeña.\n",
            "El problema puede ser resuelto en tiempo O(n log n) usando un algoritmo recursivo  tipo divide y vencerás\n"
          ]
        }
      ]
    },
    {
      "cell_type": "markdown",
      "source": [
        "> Divide y Vencerás"
      ],
      "metadata": {
        "id": "PNHn9Q_QS0ol"
      }
    },
    {
      "cell_type": "code",
      "source": [
        "# DIVIDE Y VENCERÁS\n",
        "%time\n",
        "def maximus(lista):\n",
        "  aux = lista[0]\n",
        "  index = 0\n",
        "\n",
        "  for i in range(len(lista)):\n",
        "    if lista[i] > aux:\n",
        "      aux = lista[i]\n",
        "      index = i\n",
        "\n",
        "  return aux, index\n",
        "\n",
        "\n",
        "\n",
        "def ordenacion(lista, size = None):\n",
        "  if size == 1:\n",
        "    return lista\n",
        "\n",
        "  lim = len(lista) if size == None else size\n",
        "\n",
        "  aux = lista[0: lim]\n",
        "  max, index = maximus(aux)\n",
        "  new_list = aux[0: index] + aux[index + 1: len(aux)] + [max] + lista[lim: len(lista)]\n",
        "\n",
        "  return ordenacion(new_list, lim -1)\n",
        "\n",
        "\n",
        "def distancia_minima(lista):\n",
        "  punto1, punto2 = -1, -1\n",
        "  diff = 9999\n",
        "\n",
        "  for i in range(len(lista)):\n",
        "    for j in range(i + 1, len(lista)):\n",
        "\n",
        "      aux = abs(lista[i] - lista[j])\n",
        "      if diff > aux:\n",
        "        diff = aux\n",
        "        punto1 = lista[i]\n",
        "        punto2 = lista[j]\n",
        "\n",
        "  return punto1, punto2\n",
        "\n",
        "\n",
        "# MÉTODO PRINCIPAL\n",
        "def divide_venceras(lista):\n",
        "  if (len(lista) == 0 or len(lista) == 1): return -1\n",
        "  if (len(lista) == 2): return abs(lista[0] - lista[1])\n",
        "  \n",
        "  # ordenamos la lista\n",
        "  lista = ordenacion(lista)\n",
        "\n",
        "  # dividimos la lista en dos mitades\n",
        "  size = int(len(lista)/2)\n",
        "  min1 = distancia_minima(lista[0: size])\n",
        "  min2 = distancia_minima(lista[size -1: -1])\n",
        "\n",
        "  # Comparar distancias\n",
        "  return min1 if abs(min1[0] - min1[1]) < abs(min2[0] - min2[1]) else min2\n",
        "\n",
        "\n",
        "print(f\"\\nDivide y Vencerás: {divide_venceras(lista_1D)}\")\n",
        "print(f\"Complejidad computacional: O(n log n)\")"
      ],
      "metadata": {
        "colab": {
          "base_uri": "https://localhost:8080/"
        },
        "id": "ZRSJoasDR8PU",
        "outputId": "d145233a-918f-4cb5-c06b-206bea30fc28"
      },
      "execution_count": null,
      "outputs": [
        {
          "output_type": "stream",
          "name": "stdout",
          "text": [
            "CPU times: user 2 µs, sys: 1 µs, total: 3 µs\n",
            "Wall time: 5.96 µs\n",
            "[5, 11, 39, 41, 53, 55, 60, 62, 68, 70, 78, 80, 92, 106, 126, 128, 134, 140, 145, 149, 156, 186, 187, 193, 214, 227, 231, 275, 285, 294, 341, 346, 350, 357, 359, 362, 364, 365, 382, 400, 410, 435, 436, 448, 451, 467, 474, 487, 501, 528, 552, 566, 573, 588, 608, 611, 619, 620, 621, 623, 640, 654, 660, 663, 669, 673, 677, 684, 686, 691, 693, 697, 698, 731, 733, 739, 799, 825, 828, 854, 865, 885, 898, 909, 914, 915, 921, 947, 955, 962, 977, 980, 1009, 1021, 1022, 1028, 1044, 1047, 1053, 1055, 1058, 1075, 1081, 1095, 1112, 1136, 1139, 1142, 1147, 1152, 1154, 1158, 1190, 1213, 1246, 1262, 1268, 1272, 1278, 1283, 1286, 1297, 1308, 1312, 1319, 1323, 1328, 1344, 1351, 1354, 1356, 1361, 1418, 1427, 1454, 1456, 1462, 1466, 1471, 1484, 1501, 1524, 1525, 1535, 1538, 1552, 1554, 1556, 1557, 1562, 1573, 1577, 1590, 1604, 1618, 1621, 1624, 1630, 1636, 1659, 1661, 1662, 1694, 1696, 1701, 1717, 1724, 1737, 1756, 1766, 1768, 1785, 1791, 1800, 1806, 1818, 1824, 1833, 1869, 1875, 1876, 1882, 1885, 1902, 1909, 1917, 1938, 1986, 1988, 1997, 2005, 2013, 2029, 2030, 2041, 2046, 2056, 2077, 2087, 2088, 2092, 2095, 2101, 2110, 2111, 2113, 2163, 2166, 2178, 2201, 2202, 2205, 2207, 2210, 2220, 2227, 2236, 2249, 2260, 2271, 2273, 2295, 2329, 2341, 2352, 2359, 2366, 2376, 2398, 2402, 2403, 2405, 2411, 2439, 2443, 2447, 2454, 2456, 2460, 2478, 2480, 2481, 2485, 2497, 2500, 2523, 2532, 2539, 2545, 2547, 2563, 2579, 2608, 2611, 2614, 2616, 2632, 2638, 2639, 2659, 2663, 2666, 2709, 2713, 2726, 2735, 2742, 2766, 2770, 2793, 2808, 2822, 2863, 2866, 2915, 2930, 2961, 2998, 3006, 3011, 3023, 3024, 3027, 3036, 3046, 3053, 3055, 3056, 3058, 3068, 3097, 3125, 3136, 3137, 3148, 3150, 3166, 3168, 3173, 3185, 3200, 3216, 3221, 3222, 3226, 3234, 3240, 3258, 3262, 3291, 3298, 3301, 3321, 3326, 3384, 3419, 3422, 3430, 3449, 3450, 3458, 3462, 3470, 3489, 3510, 3528, 3540, 3542, 3570, 3598, 3603, 3615, 3616, 3633, 3649, 3661, 3662, 3670, 3673, 3682, 3687, 3696, 3701, 3717, 3721, 3722, 3732, 3748, 3753, 3758, 3782, 3787, 3793, 3794, 3813, 3828, 3834, 3843, 3858, 3869, 3876, 3883, 3892, 3937, 3938, 3949, 3955, 3959, 3960, 3962, 3978, 3980, 3987, 3988, 3999, 4006, 4029, 4069, 4076, 4081, 4145, 4164, 4181, 4204, 4206, 4222, 4277, 4278, 4283, 4298, 4299, 4300, 4304, 4313, 4317, 4320, 4322, 4355, 4362, 4381, 4407, 4436, 4442, 4448, 4449, 4466, 4468, 4480, 4487, 4510, 4532, 4563, 4575, 4576, 4589, 4593, 4602, 4607, 4623, 4642, 4645, 4659, 4663, 4671, 4676, 4685, 4691, 4702, 4712, 4717, 4732, 4768, 4772, 4793, 4810, 4835, 4849, 4855, 4863, 4880, 4881, 4882, 4883, 4885, 4890, 4894, 4897, 4898, 4901, 4923, 4925, 4943, 4951, 4968, 4972, 4975, 4980, 4982, 4987, 4992, 5003, 5004, 5023, 5034, 5035, 5041, 5044, 5060, 5104, 5132, 5139, 5141, 5144, 5155]\n",
            "[5155, 5158, 5170, 5173, 5175, 5178, 5179, 5198, 5205, 5209, 5217, 5227, 5249, 5260, 5269, 5283, 5284, 5304, 5313, 5320, 5335, 5336, 5340, 5344, 5355, 5371, 5390, 5403, 5407, 5409, 5419, 5423, 5428, 5433, 5458, 5467, 5478, 5480, 5491, 5493, 5496, 5501, 5519, 5524, 5525, 5567, 5591, 5597, 5614, 5623, 5624, 5647, 5677, 5686, 5689, 5690, 5691, 5710, 5713, 5715, 5722, 5731, 5742, 5802, 5815, 5824, 5829, 5842, 5844, 5848, 5864, 5873, 5901, 5904, 5906, 5931, 5933, 5942, 5970, 5980, 5985, 6004, 6014, 6024, 6036, 6042, 6062, 6071, 6089, 6100, 6119, 6128, 6135, 6137, 6167, 6172, 6176, 6177, 6179, 6194, 6207, 6214, 6219, 6249, 6251, 6253, 6268, 6273, 6276, 6277, 6289, 6304, 6333, 6356, 6364, 6371, 6379, 6387, 6409, 6423, 6439, 6440, 6455, 6458, 6459, 6464, 6468, 6475, 6502, 6511, 6513, 6514, 6518, 6531, 6561, 6565, 6570, 6582, 6583, 6593, 6599, 6609, 6626, 6628, 6646, 6666, 6673, 6693, 6703, 6705, 6707, 6710, 6716, 6719, 6737, 6741, 6746, 6757, 6758, 6762, 6795, 6798, 6802, 6810, 6851, 6860, 6868, 6871, 6889, 6907, 6937, 6942, 6944, 6959, 6971, 6973, 6975, 6984, 6997, 7009, 7012, 7040, 7046, 7048, 7050, 7071, 7107, 7108, 7183, 7187, 7214, 7235, 7240, 7254, 7259, 7273, 7294, 7298, 7323, 7328, 7338, 7344, 7366, 7394, 7431, 7460, 7469, 7476, 7479, 7503, 7513, 7516, 7534, 7539, 7558, 7578, 7589, 7594, 7599, 7608, 7611, 7616, 7619, 7636, 7641, 7642, 7671, 7672, 7686, 7708, 7709, 7725, 7731, 7742, 7745, 7760, 7764, 7774, 7790, 7798, 7823, 7831, 7832, 7855, 7869, 7879, 7887, 7919, 7921, 7928, 7940, 7950, 7955, 7957, 7972, 7981, 7991, 7995, 7997, 8002, 8015, 8028, 8050, 8055, 8070, 8073, 8080, 8081, 8090, 8095, 8102, 8106, 8123, 8124, 8130, 8137, 8140, 8141, 8149, 8154, 8159, 8166, 8201, 8210, 8215, 8222, 8224, 8225, 8237, 8246, 8248, 8249, 8257, 8259, 8273, 8279, 8289, 8294, 8301, 8324, 8325, 8348, 8366, 8376, 8384, 8390, 8405, 8407, 8408, 8415, 8423, 8424, 8445, 8450, 8454, 8468, 8470, 8477, 8479, 8491, 8492, 8493, 8496, 8497, 8501, 8537, 8545, 8550, 8556, 8568, 8569, 8580, 8585, 8589, 8599, 8610, 8631, 8657, 8671, 8685, 8688, 8695, 8700, 8705, 8712, 8733, 8736, 8753, 8760, 8766, 8787, 8803, 8804, 8807, 8810, 8812, 8813, 8818, 8820, 8838, 8868, 8876, 8881, 8892, 8894, 8896, 8903, 8907, 8913, 8922, 8927, 8935, 8942, 8947, 8951, 8965, 8995, 9006, 9011, 9015, 9016, 9019, 9034, 9036, 9045, 9068, 9085, 9090, 9113, 9115, 9129, 9134, 9137, 9139, 9143, 9152, 9161, 9163, 9165, 9169, 9172, 9183, 9184, 9186, 9222, 9266, 9270, 9279, 9281, 9303, 9308, 9312, 9323, 9338, 9399, 9405, 9436, 9437, 9459, 9463, 9472, 9477, 9495, 9499, 9512, 9519, 9521, 9527, 9536, 9543, 9552, 9567, 9568, 9571, 9583, 9603, 9612, 9619, 9663, 9665, 9672, 9694, 9695, 9701, 9707, 9715, 9717, 9728, 9740, 9758, 9765, 9772, 9803, 9805, 9834, 9838, 9840, 9841, 9844, 9855, 9870, 9871, 9872, 9873, 9889, 9894, 9902, 9907, 9918, 9923, 9935, 9954, 9957, 9967]\n",
            "\n",
            "Divide y Vencerás: (5178, 5179)\n",
            "Complejidad computacional: O(n log n)\n"
          ]
        }
      ]
    },
    {
      "cell_type": "markdown",
      "source": [
        "Solución mediante triangulación de Delaunay\n",
        "Otra forma de resolver el problema del par más cercano es aprovechar la propiedad de la triangulación de Delaunay que indica que «cada vértice de la triangulación siempre estará conectado con su vértice más cercano». Por lo tanto, el par de puntos más cercano puede ser determinado en tiempo lineal cuando se dispone de la triangulación de Delaunay (o el diagrama de Voronoi) calculando las longitudes de las aristas. Como el cálculo de la triangulación de Delaunay toma tiempo O(n log n), este proceso domina sobre el tiempo en encontrar la arista más corta, y a su vez sirve de cota al tiempo necesario para encontrar el par más cercano."
      ],
      "metadata": {
        "id": "Rn9lcGp7LIA1"
      }
    },
    {
      "cell_type": "markdown",
      "source": [
        "> 2D y 3D conjunto"
      ],
      "metadata": {
        "id": "S4dI5lKQS62t"
      }
    },
    {
      "cell_type": "code",
      "source": [
        "# 2D y 3D\n",
        "def sum(lista):\n",
        "    aux = 0\n",
        "    for num in lista:\n",
        "        aux += num[0]\n",
        "    return aux\n",
        "\n",
        "# Funcion de ordenación\n",
        "def quick_sort(lista):\n",
        "    if len(lista) == 1 or len(lista) == 0:\n",
        "        return lista\n",
        "\n",
        "    if len(lista) == 2:\n",
        "        return [lista[0], lista[1]] if lista[0][0] < lista[1][0] else [lista[1], lista[0]]\n",
        "\n",
        "    izq, der = [], []\n",
        "\n",
        "    pivote = sum(lista)/len(lista) # media aritmética\n",
        "\n",
        "    for num in lista:\n",
        "        if num[0] <= pivote:\n",
        "            izq.append(num)\n",
        "        else:\n",
        "            der.append(num)\n",
        "    \n",
        "    return quick_sort(izq) + quick_sort(der)\n",
        "\n",
        "\n",
        "def calculo(item1, item2):\n",
        "  aux = 0\n",
        "  for i in range(len(item1)):\n",
        "    aux += (item1[i] + item2[i]) ** 2\n",
        "  return aux ** 0.5 # raiz cuadrada\n",
        "\n",
        "\n",
        "def distancia_minima(lista):\n",
        "  punto1, punto2 = -1, -1\n",
        "  diff = 9999999\n",
        "\n",
        "  for i in range(len(lista)):\n",
        "    for j in range(i + 1, len(lista)):\n",
        "\n",
        "      aux = calculo(lista[i], lista[j])\n",
        "      if diff > aux:\n",
        "        diff = aux\n",
        "        punto1 = lista[i]\n",
        "        punto2 = lista[j]\n",
        "\n",
        "  return punto1, punto2\n",
        "\n",
        "\n",
        "# MÉTODO PRINCIPAL\n",
        "def divide_venceras(lista):\n",
        "  if (len(lista) == 0 or len(lista) == 1): return -1\n",
        "  if (len(lista) == 2): return calculo(lista[0], lista[1])\n",
        "  \n",
        "  # ordenamos la lista\n",
        "  lista = quick_sort(lista)\n",
        "\n",
        "  # dividimos la lista en dos mitades\n",
        "  size = int(len(lista)/2)\n",
        "  min1 = distancia_minima(lista[0: size])\n",
        "  min2 = distancia_minima(lista[size -1: -1])\n",
        "\n",
        "  # Comparar distancias\n",
        "  return min1 if (calculo(min1[0], min1[1]) < calculo(min2[0], min2[1])) else min2"
      ],
      "metadata": {
        "id": "B_Gsi1NNc7sA"
      },
      "execution_count": null,
      "outputs": []
    },
    {
      "cell_type": "code",
      "source": [
        "#2D\n",
        "%time\n",
        "print(f\"Divide y Vencerás 2D: {divide_venceras(lista_2D)}\")"
      ],
      "metadata": {
        "colab": {
          "base_uri": "https://localhost:8080/"
        },
        "id": "ymuCJ8SEgjcO",
        "outputId": "d707533a-d487-455b-a8a2-9648d7572ecb"
      },
      "execution_count": null,
      "outputs": [
        {
          "output_type": "stream",
          "name": "stdout",
          "text": [
            "CPU times: user 2 µs, sys: 0 ns, total: 2 µs\n",
            "Wall time: 5.96 µs\n",
            "Divide y Vencerás 2D: ((298, 504), (1025, 261))\n"
          ]
        }
      ]
    },
    {
      "cell_type": "code",
      "source": [
        "#3D\n",
        "%time\n",
        "print(f\"Divide y Vencerás 3D: {divide_venceras(lista_3D)}\")\n",
        "print(f\"Complejidad computacional: O(n log n)\")"
      ],
      "metadata": {
        "colab": {
          "base_uri": "https://localhost:8080/"
        },
        "id": "JOXOOA3yePax",
        "outputId": "5b85c555-c795-42cb-9a7a-fa751fb3c8f7"
      },
      "execution_count": null,
      "outputs": [
        {
          "output_type": "stream",
          "name": "stdout",
          "text": [
            "CPU times: user 4 µs, sys: 1 µs, total: 5 µs\n",
            "Wall time: 7.63 µs\n",
            "Divide y Vencerás 3D: ((811, 87, 939), (1011, 142, 596))\n",
            "Complejidad computacional: O(n log n)\n"
          ]
        }
      ]
    }
  ]
}